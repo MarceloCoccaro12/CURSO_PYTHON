{
 "cells": [
  {
   "cell_type": "markdown",
   "id": "a82d25e8-fd63-4a9e-8746-24c2bd2c6659",
   "metadata": {},
   "source": [
    "# Esse é o meu título\n",
    "Essa linha cria uma variável `a`.\n"
   ]
  },
  {
   "cell_type": "code",
   "execution_count": 7,
   "id": "c59f39f2-a7ad-45ae-a060-ed61732c9bd6",
   "metadata": {},
   "outputs": [
    {
     "data": {
      "text/plain": [
       "2"
      ]
     },
     "execution_count": 7,
     "metadata": {},
     "output_type": "execute_result"
    }
   ],
   "source": [
    "a = 2\n",
    "a"
   ]
  },
  {
   "cell_type": "markdown",
   "id": "9d4fc96f-e3c5-4c46-bd86-5e8952737606",
   "metadata": {},
   "source": [
    "Essa linha tem o valor da variável `a` em dobro"
   ]
  },
  {
   "cell_type": "code",
   "execution_count": 6,
   "id": "7280f719-64ef-4840-ad80-b263d7e850a4",
   "metadata": {},
   "outputs": [
    {
     "data": {
      "text/plain": [
       "4"
      ]
     },
     "execution_count": 6,
     "metadata": {},
     "output_type": "execute_result"
    }
   ],
   "source": [
    "b = a * 2\n",
    "b"
   ]
  },
  {
   "cell_type": "markdown",
   "id": "77baa5d7-0a6c-4575-9ce4-94ec38afacc3",
   "metadata": {},
   "source": [
    "Essa linha mostra  o valor de  `a` + `b`"
   ]
  },
  {
   "cell_type": "code",
   "execution_count": 8,
   "id": "c0f67e9e-0914-4099-b19a-7dd815a91c0e",
   "metadata": {},
   "outputs": [
    {
     "data": {
      "text/plain": [
       "6"
      ]
     },
     "execution_count": 8,
     "metadata": {},
     "output_type": "execute_result"
    }
   ],
   "source": [
    "a + b"
   ]
  },
  {
   "cell_type": "code",
   "execution_count": null,
   "id": "5851c13f-1611-4553-b29b-d5b45ace29a0",
   "metadata": {},
   "outputs": [],
   "source": []
  }
 ],
 "metadata": {
  "kernelspec": {
   "display_name": "Python 3 (ipykernel)",
   "language": "python",
   "name": "python3"
  },
  "language_info": {
   "codemirror_mode": {
    "name": "ipython",
    "version": 3
   },
   "file_extension": ".py",
   "mimetype": "text/x-python",
   "name": "python",
   "nbconvert_exporter": "python",
   "pygments_lexer": "ipython3",
   "version": "3.12.5"
  }
 },
 "nbformat": 4,
 "nbformat_minor": 5
}
